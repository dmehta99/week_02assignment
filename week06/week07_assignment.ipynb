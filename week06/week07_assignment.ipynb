{
  "cells": [
    {
      "cell_type": "markdown",
      "metadata": {
        "id": "W0tIJwRuCUy-"
      },
      "source": [
        "# Week 7 Assignment\n",
        "\n",
        "We've been working with different types of data structures in Python (dictionary, list, etc), how those are represented in JSON documents, and how to write code to access specific data elements. In this week's assignment, you will need to create your own JSON document to store information about yourself and the grades you've received from week 1 to week 4 and the week 6 quiz.  That is, everything you should have received a grade for.  Then you'll need to show me you know how to navigate the JSON in that file.\n",
        "\n",
        "Different from what we've done in the past, you do not have to write any functions or include any docstrings.  Just create some JSON and write some code.\n",
        "\n",
        "---"
      ]
    },
    {
      "cell_type": "markdown",
      "metadata": {
        "id": "lLY0-QFCCUzA"
      },
      "source": [
        "## 7.1 Create a JSON file\n",
        "\n",
        "Create a JSON file that contains your name, email, year you were born, all of the grades you've received back so far, and a comment about what you thought was most challenging on each of those assignments.  This can be any structure you choose, but make sure it uses a dictionary and a list, and has at least two levels of hierarchy.  That is, it can't just be one big long list."
      ]
    },
    {
      "cell_type": "markdown",
      "metadata": {
        "id": "qhvGUXAICUzA"
      },
      "source": [
        "First, explain how your data structure is going to look..."
      ]
    },
    {
      "cell_type": "markdown",
      "metadata": {
        "id": "hI-RORxjCUzB"
      },
      "source": [
        "* Put your explanation here in text..."
      ]
    },
    {
      "cell_type": "markdown",
      "metadata": {
        "id": "4_SFi9FfCUzB"
      },
      "source": [
        "Then put the actual JSON you've created inside the multiline string below..."
      ]
    },
    {
      "cell_type": "code",
      "execution_count": 7,
      "metadata": {
        "id": "gu1fIeEUCUzC",
        "outputId": "67f87ff1-76e2-430a-fa2f-dda00ce3ce81",
        "colab": {
          "base_uri": "https://localhost:8080/"
        }
      },
      "outputs": [
        {
          "output_type": "execute_result",
          "data": {
            "text/plain": [
              "{'personal_info': {'name': 'Dhwani Mehta',\n",
              "  'email': 'dhwani.mehta@slu.edu',\n",
              "  'year_born': 1999},\n",
              " 'grades': [{'assignment': 'Week 1',\n",
              "   'grade': 10,\n",
              "   'comment': 'The most challenging part was understanding the new concepts.'},\n",
              "  {'assignment': 'Week 2',\n",
              "   'grade': 7,\n",
              "   'comment': 'I struggled with the experimental design.'},\n",
              "  {'assignment': 'Week 3',\n",
              "   'grade': 8,\n",
              "   'comment': 'I struggled with the experimental design.'},\n",
              "  {'assignment': 'Week 4',\n",
              "   'grade': 8,\n",
              "   'comment': 'It was easier than the previous assignments.'}]}"
            ]
          },
          "metadata": {},
          "execution_count": 7
        }
      ],
      "source": [
        "{\n",
        "  \"personal_info\": {\n",
        "    \"name\": \"Dhwani Mehta\",\n",
        "    \"email\": \"dhwani.mehta@slu.edu\",\n",
        "    \"year_born\": 1999\n",
        "  },\n",
        "  \"grades\": [\n",
        "    {\n",
        "      \"assignment\": \"Week 1\",\n",
        "      \"grade\": 10,\n",
        "      \"comment\": \"The most challenging part was understanding the new concepts.\"\n",
        "    },\n",
        "    {\n",
        "      \"assignment\": \"Week 2\",\n",
        "      \"grade\": 7,\n",
        "      \"comment\": \"I struggled with the experimental design.\"\n",
        "    },\n",
        "    {\n",
        "      \"assignment\": \"Week 3\",\n",
        "      \"grade\": 8,\n",
        "      \"comment\": \"I struggled with the experimental design.\"\n",
        "    },\n",
        "    {\n",
        "      \"assignment\": \"Week 4\",\n",
        "      \"grade\": 8,\n",
        "      \"comment\": \"It was easier than the previous assignments.\"\n",
        "    },\n",
        "\n",
        "  ]\n",
        "}"
      ]
    },
    {
      "cell_type": "markdown",
      "metadata": {
        "id": "92MXDwCJCUzC"
      },
      "source": [
        "## 7.2 Do something with your JSON\n",
        "\n",
        "Now use Python code to do something with the Json above.  Turn it into English text, but make sure that you use at least one loop to access some dict or list content of your JSON.  Below, I've provided some basic code to read in the string above as JSON and return a Python object.  Your job is to work with that data structure and print out the important information like your name, email, and how you did on each assignment."
      ]
    },
    {
      "cell_type": "code",
      "execution_count": 12,
      "metadata": {
        "id": "NynrE7MrCUzC",
        "outputId": "825d8fce-6245-4e46-a10d-4845511029fc",
        "colab": {
          "base_uri": "https://localhost:8080/"
        }
      },
      "outputs": [
        {
          "output_type": "stream",
          "name": "stdout",
          "text": [
            "Name: Dhwani Mehta\n",
            "Email: dhwani.mehta@slu.edu\n",
            "\n",
            "Assignment Grades:\n",
            "Week 1: Grade 10 - The most challenging part was understanding the new concepts.\n",
            "Week 2: Grade 7 - I struggled with the experimental design.\n",
            "Week 3: Grade 8 - I struggled with the experimental design.\n",
            "Week 4: Grade 8 - It was easier than the previous assignments.\n"
          ]
        }
      ],
      "source": [
        "import json\n",
        "\n",
        "# Put your code to output a paragraph of English text here\n",
        "# JSON string (as provided above)\n",
        "json_data = '''\n",
        "{\n",
        "  \"personal_info\": {\n",
        "    \"name\": \"Dhwani Mehta\",\n",
        "    \"email\": \"dhwani.mehta@slu.edu\",\n",
        "    \"year_born\": 1999\n",
        "  },\n",
        "  \"grades\": [\n",
        "    {\n",
        "      \"assignment\": \"Week 1\",\n",
        "      \"grade\": 10,\n",
        "      \"comment\": \"The most challenging part was understanding the new concepts.\"\n",
        "    },\n",
        "    {\n",
        "      \"assignment\": \"Week 2\",\n",
        "      \"grade\": 7,\n",
        "      \"comment\": \"I struggled with the experimental design.\"\n",
        "    },\n",
        "    {\n",
        "      \"assignment\": \"Week 3\",\n",
        "      \"grade\": 8,\n",
        "      \"comment\": \"I struggled with the experimental design.\"\n",
        "    },\n",
        "    {\n",
        "      \"assignment\": \"Week 4\",\n",
        "      \"grade\": 8,\n",
        "      \"comment\": \"It was easier than the previous assignments.\"\n",
        "    }\n",
        "  ]\n",
        "}\n",
        "'''\n",
        "\n",
        "# Parse the JSON string into a Python object\n",
        "data = json.loads(json_data)\n",
        "\n",
        "# Extract personal information\n",
        "name = data[\"personal_info\"][\"name\"]\n",
        "email = data[\"personal_info\"][\"email\"]\n",
        "\n",
        "# Print personal information\n",
        "print(f\"Name: {name}\")\n",
        "print(f\"Email: {email}\")\n",
        "\n",
        "# Loop through the grades and print assignment details\n",
        "print(\"\\nAssignment Grades:\")\n",
        "for grade_info in data[\"grades\"]:\n",
        "    assignment = grade_info[\"assignment\"]\n",
        "    grade = grade_info[\"grade\"]\n",
        "    comment = grade_info[\"comment\"]\n",
        "    print(f\"{assignment}: Grade {grade} - {comment}\")"
      ]
    },
    {
      "cell_type": "markdown",
      "metadata": {
        "id": "Pqgl-gbvCUzD"
      },
      "source": [
        "## 7.3 Reflect\n",
        "\n",
        "Write a paragraph on any reflections you have. Was this hard? Easy?  What parts were most challenging or easiest? What did you like or dislike about the assignment?  Share whatever important thoughts you have abou this assignment."
      ]
    },
    {
      "cell_type": "code",
      "source": [
        "def reflection_paragraph():\n",
        "    reflection = (\n",
        "        \"Reflecting on this assignment I belive that I learned something valuable from all the exercises while working with JSON data \"\n",
        "        \"Learning it into a more useable way and  Overall, the assignments were pretty direct, \"\n",
        "        \"I was able to access and navigate via various elements without neglecting any details. I am very glad to be learning something out of my comfort zone \"\n",
        "        \" I liked most was seeing how raw data could be transformed into meaningful information; however, \"\n",
        "        \"However It was extremely tough at times but was able to manage and get through the difficulty eventually. \"\n",
        "        \"Overall all the assignments helped my coding skills along with my ability to work to understand this subject, that is most positive for me.\"\n",
        "    )\n",
        "    return reflection\n",
        "\n",
        "# Print the reflection paragraph\n",
        "print(reflection_paragraph())"
      ],
      "metadata": {
        "id": "jdUm3SXWFUdl",
        "outputId": "bb4b3ea4-943e-46ee-90f1-eb5cc5bf4cf4",
        "colab": {
          "base_uri": "https://localhost:8080/"
        }
      },
      "execution_count": 18,
      "outputs": [
        {
          "output_type": "stream",
          "name": "stdout",
          "text": [
            "Reflecting on this assignment I belive that I learned something valuable from all the exercises while working with JSON data Learning it into a more useable way and  Overall, the assignments were pretty direct, I was able to access and navigate via various elements without neglecting any details. I am very glad to be learning something out of my comfort zone  I liked most was seeing how raw data could be transformed into meaningful information; however, However It was extremely tough at times but was able to manage and get through the difficulty eventually. Overall all the assignments helped my coding skills along with my ability to work to understand this subject, that is most positive for me.\n"
          ]
        }
      ]
    },
    {
      "cell_type": "markdown",
      "metadata": {
        "id": "YbxWQXV_CUzD"
      },
      "source": [
        "* Put your response here"
      ]
    },
    {
      "cell_type": "markdown",
      "source": [],
      "metadata": {
        "id": "P9G_qReXFJ87"
      }
    },
    {
      "cell_type": "markdown",
      "metadata": {
        "id": "bakK7pPSCUzD"
      },
      "source": [
        "---\n",
        "\n",
        "# Example\n",
        "\n",
        "Below is an example of something similar, but this uses information my and my friend's kids instead of grades."
      ]
    },
    {
      "cell_type": "code",
      "execution_count": null,
      "metadata": {
        "id": "0ixUNQC7CUzD",
        "outputId": "76a60126-ba65-42ef-ded4-a2875fbe4876"
      },
      "outputs": [
        {
          "name": "stdout",
          "output_type": "stream",
          "text": [
            "Hi, my name is Paul. I've got 3 kids. Their names are Ellie, Ada, Teddy.\n",
            "My friend, Anny has 1 kids. That's fewer than me. Their names are 1\n"
          ]
        }
      ],
      "source": [
        "hds5210 = \"\"\"\n",
        "{\n",
        "    \"me\": {\n",
        "        \"name\": \"Paul\",\n",
        "        \"kids\": [\"Ellie\", \"Ada\", \"Teddy\"]\n",
        "    },\n",
        "    \"friend\": {\n",
        "        \"name\": \"Anny\",\n",
        "        \"kids\": [\"Abby\"]\n",
        "    }\n",
        "}\n",
        "\"\"\"\n",
        "\n",
        "import json\n",
        "\n",
        "info = json.loads(hds5210)\n",
        "\n",
        "me = info[\"me\"][\"name\"]\n",
        "my_kids_count = len(info[\"me\"][\"kids\"])\n",
        "kids_list = \", \".join(info[\"me\"][\"kids\"])\n",
        "friend = info[\"friend\"][\"name\"]\n",
        "friends_kid_count = len(info[\"friend\"][\"kids\"])\n",
        "friend_kids = \", \".join(info[\"friend\"][\"kids\"])\n",
        "compare = \"more\" if friends_kid_count > my_kids_count else \"fewer\"\n",
        "\n",
        "print(f\"Hi, my name is {me}. I've got {my_kids_count} kids. Their names are {kids_list}.\")\n",
        "print(f\"My friend, {friend} has {friends_kid_count} kids. That's {compare} than me. Their names are {friends_kid_count}\")"
      ]
    }
  ],
  "metadata": {
    "kernelspec": {
      "display_name": "Python 3",
      "language": "python",
      "name": "python3"
    },
    "language_info": {
      "codemirror_mode": {
        "name": "ipython",
        "version": 3
      },
      "file_extension": ".py",
      "mimetype": "text/x-python",
      "name": "python",
      "nbconvert_exporter": "python",
      "pygments_lexer": "ipython3",
      "version": "3.9.16"
    },
    "colab": {
      "provenance": []
    }
  },
  "nbformat": 4,
  "nbformat_minor": 0
}