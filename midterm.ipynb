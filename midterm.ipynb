{
  "cells": [
    {
      "cell_type": "markdown",
      "metadata": {
        "id": "view-in-github",
        "colab_type": "text"
      },
      "source": [
        "<a href=\"https://colab.research.google.com/github/dmehta99/week_02assignment/blob/main/midterm.ipynb\" target=\"_parent\"><img src=\"https://colab.research.google.com/assets/colab-badge.svg\" alt=\"Open In Colab\"/></a>"
      ]
    },
    {
      "cell_type": "markdown",
      "metadata": {
        "id": "sdBtvBmsq9Pg"
      },
      "source": [
        "### Mid-term for HDS5210\n",
        "\n",
        "Your supervisor is concerned about 4-year survival risks for COPD. She has asked for you to do some analysis using a new metric, BODE. BODE is an improvement on a previous metric and promises to provide insight on survival risks.\n",
        "\n",
        "BODE is defined here. https://www.mdcalc.com/calc/3916/bode-index-copd-survival#evidence\n",
        "\n",
        "Your assignment is to create a BODE calculation, use it to calculate BODE scores and BODE survival rates for a group of patients. Then we want to evaluate the average BODE scores and BODE survival rates for each area hospital.\n",
        "\n",
        "Your patient input file will have the following columns:\n",
        "NAME,SSN,LANGUAGE,JOB,HEIGHT_M,WEIGHT_KG,fev_pct,dyspnea_description,distance_in_meters,hospital\n",
        "\n",
        "BODE calculations require a BMI value, so you will have to create a function for it.\n",
        "\n",
        "Your output should be in the form of two CSV files, patient_output.csv and hospital_output.csv.\n",
        "\n",
        "Patient_output will have the following columns:\n",
        "NAME,BODE_SCORE,BODE_RISK,HOSPITAL\n",
        "\n",
        "Hospital output will have the following columns:\n",
        "HOSPITAL_NAME, COPD_COUNT, PCT_OF_COPD_CASES_OVER_BEDS, AVG_SCORE, AVG_RISK\n",
        "\n",
        "Each function you create should have documentation and a suitable number of test cases. If the input data could be wrong, make sure to raise a Value Error.\n",
        "\n",
        "For this assignment, use the doctest, json, and csv libraries. Pandas is not allowed for this assignment."
      ]
    },
    {
      "cell_type": "code",
      "execution_count": null,
      "metadata": {
        "id": "qPSQ_cW0q9Pq"
      },
      "outputs": [],
      "source": [
        "import doctest\n",
        "import json\n",
        "import csv"
      ]
    },
    {
      "cell_type": "markdown",
      "metadata": {
        "id": "Dn-_PBV6q9Pt"
      },
      "source": [
        "### Step 1: Calculate BMI"
      ]
    },
    {
      "cell_type": "code",
      "execution_count": null,
      "metadata": {
        "id": "yfWduG6uq9Pu"
      },
      "outputs": [],
      "source": [
        "def calculate_bmi(weight_kg, height_m):\n",
        "    \"\"\"\n",
        "    Calculates Body Mass Index (BMI) from weight and height.\n",
        "\n",
        "    Args:\n",
        "        weight_kg (float): The patient's weight in kilograms.\n",
        "        height_m (float): The patient's height in meters.\n",
        "\n",
        "    Returns:\n",
        "        float: The BMI value.\n",
        "\n",
        "    Raises:\n",
        "        ValueError: If weight or height is non-positive.\n",
        "\n",
        "    Example:\n",
        "    >>> calculate_bmi(70, 1.75)\n",
        "    22.857142857142858\n",
        "    >>> calculate_bmi(50, 1.6)\n",
        "    19.53125\n",
        "    \"\"\"\n",
        "    if weight_kg <= 0 or height_m <= 0:\n",
        "        raise ValueError(\"Weight and height must be positive values.\")\n",
        "    return weight_kg / (height_m ** 2)\n"
      ]
    },
    {
      "cell_type": "markdown",
      "metadata": {
        "id": "RygEQ891q9Pv"
      },
      "source": [
        "### Step 2: Calculate BODE Score"
      ]
    },
    {
      "cell_type": "code",
      "execution_count": null,
      "metadata": {
        "id": "LoHtnX0gq9Pv"
      },
      "outputs": [],
      "source": [
        "def calculate_bode_score(fev_pct, dyspnea_description, distance_meters, bmi):\n",
        "    \"\"\"\n",
        "    Calculates the total BODE score.\n",
        "\n",
        "    Args:\n",
        "        fev_pct (float): The FEV1 percentage predicted.\n",
        "        dyspnea_description (str): The dyspnea description.\n",
        "        distance_meters (float): The distance walked in 6 minutes.\n",
        "        bmi (float): The Body Mass Index.\n",
        "\n",
        "    Returns:\n",
        "        int: The total BODE score.\n",
        "    \"\"\"\n",
        "    # Calculate FEV1 score\n",
        "    fev_score = 0\n",
        "    if fev_pct >= 65:\n",
        "        fev_score = 0\n",
        "    elif 50 <= fev_pct < 65:\n",
        "        fev_score = 1\n",
        "    elif 36 <= fev_pct < 50:\n",
        "        fev_score = 2\n",
        "    else:\n",
        "        fev_score = 3\n",
        "\n",
        "    # Calculate BMI score\n",
        "    bmi_score = 1 if bmi < 21 else 0\n",
        "\n",
        "    # Map dyspnea description to score\n",
        "    dyspnea_score_map = {\n",
        "        \"WHEN HURRYING\": 1,\n",
        "        \"STOPS AFTER A FEW MINUTES\": 2,\n",
        "        \"BREATHLESS WHEN DRESSING\": 3\n",
        "    }\n",
        "    dyspnea_score = dyspnea_score_map.get(dyspnea_description.upper(), 0)\n",
        "\n",
        "    # Calculate distance walked score\n",
        "    if distance_meters >= 350:\n",
        "        distance_score = 0\n",
        "    elif 250 <= distance_meters < 350:\n",
        "        distance_score = 1\n",
        "    elif 150 <= distance_meters < 250:\n",
        "        distance_score = 2\n",
        "    else:\n",
        "        distance_score = 3\n",
        "\n",
        "    # Total BODE score\n",
        "    total_bode_score = fev_score + bmi_score + dyspnea_score + distance_score\n",
        "    return total_bode_score\n"
      ]
    },
    {
      "cell_type": "markdown",
      "metadata": {
        "id": "vnaZ74tJq9Pw"
      },
      "source": [
        "### Step 3: Calculate BODE Risk"
      ]
    },
    {
      "cell_type": "code",
      "execution_count": null,
      "metadata": {
        "id": "UbifYfGPq9Px"
      },
      "outputs": [],
      "source": [
        "def calculate_bode_risk(bode_score):\n",
        "    \"\"\"\n",
        "    Maps the BODE score to a risk category.\n",
        "\n",
        "    Args:\n",
        "        bode_score (int): The total BODE score.\n",
        "\n",
        "    Returns:\n",
        "        str: The risk category ('Low', 'Moderate', 'High', 'Very High').\n",
        "    \"\"\"\n",
        "    if bode_score <= 2:\n",
        "        return 'Low'\n",
        "    elif 3 <= bode_score <= 4:\n",
        "        return 'Moderate'\n",
        "    elif 5 <= bode_score <= 6:\n",
        "        return 'High'\n",
        "    else:\n",
        "        return 'Very High'\n"
      ]
    },
    {
      "cell_type": "markdown",
      "metadata": {
        "id": "KjNVf_7aq9Py"
      },
      "source": [
        "### Step 4: Load Hospital Data"
      ]
    },
    {
      "cell_type": "code",
      "execution_count": null,
      "metadata": {
        "id": "whwP322Dq9Pz"
      },
      "outputs": [],
      "source": [
        "import json\n",
        "\n",
        "def load_hospital_data(file_path):\n",
        "    \"\"\"\n",
        "    Loads hospital data from a JSON file and returns a dictionary with hospital names as keys and bed counts as values.\n",
        "\n",
        "    Args:\n",
        "        file_path (str): The path to the JSON file containing hospital data.\n",
        "\n",
        "    Returns:\n",
        "        dict: A dictionary where keys are hospital names and values are bed counts.\n",
        "    \"\"\"\n",
        "    with open(file_path, 'r') as file:\n",
        "        hospital_data = json.load(file)\n",
        "\n",
        "    hospital_beds = {}\n",
        "\n",
        "    # Loop through each hospital system\n",
        "    for system in hospital_data:\n",
        "        for hospital in system['hospitals']:\n",
        "            # Store the hospital name and bed count\n",
        "            hospital_beds[hospital['name']] = hospital['beds']\n",
        "\n",
        "    return hospital_beds\n"
      ]
    },
    {
      "cell_type": "markdown",
      "metadata": {
        "id": "3qm0yM6lq9Pz"
      },
      "source": [
        "### Step 5: Main business logic\n",
        "\n",
        "Call BODE Score, BODE Risk functions for each patient.\n",
        "\n",
        "For each hospital, calculate Avg BODE score and Avg BODE risk and count the number of cases for each hospital."
      ]
    },
    {
      "cell_type": "code",
      "execution_count": null,
      "metadata": {
        "colab": {
          "base_uri": "https://localhost:8080/"
        },
        "id": "NgZjM4Vdq9P0",
        "outputId": "eb92f4b4-9040-42d3-b284-33a973c45110"
      },
      "outputs": [
        {
          "output_type": "stream",
          "name": "stdout",
          "text": [
            "Directory created or exists: ./output/\n",
            "Writing patient output to ./output/patient_output.csv\n",
            "Writing hospital output to ./output/hospital_output.csv\n"
          ]
        }
      ],
      "source": [
        "import os\n",
        "import csv\n",
        "import json\n",
        "\n",
        "# Ensure output directory exists\n",
        "output_directory = './output/'  # Use local directory if necessary\n",
        "if not os.path.exists(output_directory):\n",
        "    os.makedirs(output_directory)\n",
        "print(f\"Directory created or exists: {output_directory}\")\n",
        "\n",
        "# Set file paths\n",
        "patient_file_path = './patient.csv'  # Adjust this to a valid path for patient file\n",
        "hospital_file_path = './hospitals.json'  # Adjust this to a valid path for hospital file\n",
        "patient_output_file = os.path.join(output_directory, 'patient_output.csv')\n",
        "hospital_output_file = os.path.join(output_directory, 'hospital_output.csv')\n",
        "\n",
        "print(f\"Writing patient output to {patient_output_file}\")\n",
        "print(f\"Writing hospital output to {hospital_output_file}\")\n",
        "\n",
        "# Function to process files (use the previous provided code for calculations)\n"
      ]
    }
  ],
  "metadata": {
    "language_info": {
      "name": "python"
    },
    "colab": {
      "provenance": [],
      "include_colab_link": true
    },
    "kernelspec": {
      "name": "python3",
      "display_name": "Python 3"
    }
  },
  "nbformat": 4,
  "nbformat_minor": 0
}