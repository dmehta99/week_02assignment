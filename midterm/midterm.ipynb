{
  "cells": [
    {
      "cell_type": "markdown",
      "metadata": {
        "id": "WQydmf8lfdiA"
      },
      "source": [
        "### Mid-term for HDS5210\n",
        "\n",
        "Your supervisor is concerned about 4-year survival risks for COPD. She has asked for you to do some analysis using a new metric, BODE. BODE is an improvement on a previous metric and promises to provide insight on survival risks.\n",
        "\n",
        "BODE is defined here. https://www.mdcalc.com/calc/3916/bode-index-copd-survival#evidence\n",
        "\n",
        "Your assignment is to create a BODE calculation, use it to calculate BODE scores and BODE survival rates for a group of patients. Then we want to evaluate the average BODE scores and BODE survival rates for each area hospital.\n",
        "\n",
        "Your patient input file will have the following columns:\n",
        "NAME,SSN,LANGUAGE,JOB,HEIGHT_M,WEIGHT_KG,fev_pct,dyspnea_description,distance_in_meters,hospital\n",
        "\n",
        "BODE calculations require a BMI value, so you will have to create a function for it.\n",
        "\n",
        "Your output should be in the form of two CSV files, patient_output.csv and hospital_output.csv.\n",
        "\n",
        "Patient_output will have the following columns:\n",
        "NAME,BODE_SCORE,BODE_RISK,HOSPITAL\n",
        "\n",
        "Hospital output will have the following columns:\n",
        "HOSPITAL_NAME, COPD_COUNT, PCT_OF_COPD_CASES_OVER_BEDS, AVG_SCORE, AVG_RISK\n",
        "\n",
        "Each function you create should have documentation and a suitable number of test cases. If the input data could be wrong, make sure to raise a Value Error.\n",
        "\n",
        "For this assignment, use the doctest, json, and csv libraries. Pandas is not allowed for this assignment."
      ]
    },
    {
      "cell_type": "code",
      "source": [],
      "metadata": {
        "id": "4KRb4zREk9fx"
      },
      "execution_count": null,
      "outputs": []
    },
    {
      "cell_type": "code",
      "execution_count": 11,
      "metadata": {
        "id": "wlXHpHpBfdiG"
      },
      "outputs": [],
      "source": [
        "import doctest\n",
        "import json\n",
        "import csv"
      ]
    },
    {
      "cell_type": "markdown",
      "metadata": {
        "id": "1_qHllaUfdiJ"
      },
      "source": [
        "### Step 1: Calculate BMI"
      ]
    },
    {
      "cell_type": "code",
      "execution_count": 24,
      "metadata": {
        "id": "srtpBGiKfdiJ"
      },
      "outputs": [],
      "source": [
        "def calculate_bmi(weight_kg, height_m):\n",
        "    \"\"\"\n",
        "    Calculate the Body Mass Index (BMI).\n",
        "\n",
        "    Parameters:\n",
        "    weight_kg (float): The weight of the individual in kilograms.\n",
        "    height_m (float): The height of the individual in meters.\n",
        "\n",
        "    Returns:\n",
        "    float: The calculated BMI.\n",
        "\n",
        "    Raises:\n",
        "    ValueError: If weight or height is not positive.\n",
        "\n",
        "    >>> calculate_bmi(70, 1.75)\n",
        "    22.857142857142858\n",
        "    >>> calculate_bmi(0, 1.75)\n",
        "    Traceback (most recent call last):\n",
        "        ...\n",
        "    ValueError: Weight and height must be positive values.\n",
        "    >>> calculate_bmi(70, 0)\n",
        "    Traceback (most recent call last):\n",
        "        ...\n",
        "    ValueError: Weight and height must be positive values.\n",
        "    \"\"\"\n",
        "    if weight_kg <= 0 or height_m <= 0:\n",
        "        raise ValueError(\"Weight and height must be positive values.\")\n",
        "\n",
        "    bmi = weight_kg / (height_m ** 2)\n",
        "    return bmi\n"
      ]
    },
    {
      "cell_type": "markdown",
      "metadata": {
        "id": "3lvzlf1WfdiK"
      },
      "source": [
        "### Step 2: Calculate BODE Score"
      ]
    },
    {
      "cell_type": "code",
      "execution_count": 13,
      "metadata": {
        "id": "MZbQW-8hfdiK"
      },
      "outputs": [],
      "source": [
        "def calculate_bode_score(fev_pct, dyspnea_description, distance_meters, weight_kg, height_m):\n",
        "    \"\"\"\n",
        "    Calculate the BODE score based on FEV1 percentage, dyspnea level, distance walked, and BMI.\n",
        "\n",
        "    Parameters:\n",
        "    fev_pct (float): FEV1 percentage.\n",
        "    dyspnea_description (str): Description of dyspnea (None, Mild, Moderate, Severe).\n",
        "    distance_meters (float): Distance walked in 6 minutes.\n",
        "    weight_kg (float): The weight of the individual in kilograms.\n",
        "    height_m (float): The height of the individual in meters.\n",
        "\n",
        "    Returns:\n",
        "    tuple: BODE score and risk category.\n",
        "\n",
        "    Raises:\n",
        "    ValueError: If inputs are not valid.\n",
        "\n",
        "    >>> calculate_bode_score(50, 'Moderate', 300, 70, 1.75)\n",
        "    (4, 'High')\n",
        "    >>> calculate_bode_score(30, 'Severe', 200, 80, 1.8)\n",
        "    (6, 'Very High')\n",
        "    >>> calculate_bode_score(80, 'None', 600, 60, 1.6)\n",
        "    (1, 'Low')\n",
        "    \"\"\"\n",
        "    # Calculate BMI\n",
        "    bmi = calculate_bmi(weight_kg, height_m)\n",
        "\n",
        "    # BODE components\n",
        "    # B: BMI points\n",
        "    if bmi < 21:\n",
        "        b_points = 1\n",
        "    elif 21 <= bmi <= 24.9:\n",
        "        b_points = 0\n",
        "    else:\n",
        "        b_points = 1\n",
        "\n",
        "    # O: FEV1 points\n",
        "    if fev_pct < 50:\n",
        "        o_points = 2\n",
        "    elif 50 <= fev_pct < 65:\n",
        "        o_points = 1\n",
        "    else:\n",
        "        o_points = 0\n",
        "\n",
        "    # D: Dyspnea points\n",
        "    if dyspnea_description == 'None':\n",
        "        d_points = 0\n",
        "    elif dyspnea_description == 'Mild':\n",
        "        d_points = 1\n",
        "    elif dyspnea_description == 'Moderate':\n",
        "        d_points = 2\n",
        "    else:  # Severe\n",
        "        d_points = 3\n",
        "\n",
        "    # E: Distance points\n",
        "    if distance_meters < 150:\n",
        "        e_points = 3\n",
        "    elif 150 <= distance_meters < 250:\n",
        "        e_points = 2\n",
        "    elif 250 <= distance_meters < 350:\n",
        "        e_points = 1\n",
        "    else:\n",
        "        e_points = 0\n",
        "\n",
        "    # Total BODE score\n",
        "    total_bode_score = b_points + o_points + d_points + e_points\n",
        "\n",
        "    # Risk categories based on total BODE score\n",
        "    if total_bode_score <= 2:\n",
        "        risk_category = 'Low'\n",
        "    elif total_bode_score <= 4:\n",
        "        risk_category = 'Moderate'\n",
        "    elif total_bode_score <= 6:\n",
        "        risk_category = 'High'\n",
        "    else:\n",
        "        risk_category = 'Very High'\n",
        "\n",
        "    return total_bode_score, risk_category\n"
      ]
    },
    {
      "cell_type": "markdown",
      "metadata": {
        "id": "ezB8DjgbfdiK"
      },
      "source": [
        "### Step 3: Calculate BODE Risk"
      ]
    },
    {
      "cell_type": "code",
      "execution_count": 15,
      "metadata": {
        "id": "dOxqS27JfdiK"
      },
      "outputs": [],
      "source": [
        "def determine_bode_risk(bode_score):\n",
        "    \"\"\"\n",
        "    Determine BODE risk category based on the BODE score.\n",
        "\n",
        "    Parameters:\n",
        "    bode_score (int): The total BODE score.\n",
        "\n",
        "    Returns:\n",
        "    str: Risk category.\n",
        "\n",
        "    Raises:\n",
        "    ValueError: If BODE score is negative.\n",
        "\n",
        "    >>> determine_bode_risk(1)\n",
        "    'Low'\n",
        "    >>> determine_bode_risk(4)\n",
        "    'Moderate'\n",
        "    >>> determine_bode_risk(6)\n",
        "    'High'\n",
        "    >>> determine_bode_risk(7)\n",
        "    'Very High'\n",
        "    >>> determine_bode_risk(-1)\n",
        "    Traceback (most recent call last):\n",
        "        ...\n",
        "    ValueError: BODE score cannot be negative.\n",
        "    \"\"\"\n",
        "    if bode_score < 0:\n",
        "        raise ValueError(\"BODE score cannot be negative.\")\n",
        "\n",
        "    if bode_score <= 2:\n",
        "        return 'Low'\n",
        "    elif 3 <= bode_score <= 4:\n",
        "        return 'Moderate'\n",
        "    elif 5 <= bode_score <= 6:\n",
        "        return 'High'\n",
        "    else:\n",
        "        return 'Very High'\n"
      ]
    },
    {
      "cell_type": "markdown",
      "metadata": {
        "id": "c5MOMz1FfdiL"
      },
      "source": [
        "### Step 4: Load Hospital Data"
      ]
    },
    {
      "cell_type": "code",
      "execution_count": 17,
      "metadata": {
        "id": "_obCrjn2fdiL"
      },
      "outputs": [],
      "source": [
        "import csv\n",
        "\n",
        "def load_patient_data(input_file):\n",
        "    \"\"\"\n",
        "    Load patient data from a CSV file and calculate BODE scores and risks.\n",
        "\n",
        "    Parameters:\n",
        "    input_file (str): The path to the input CSV file.\n",
        "\n",
        "    Returns:\n",
        "    list: A list of dictionaries containing patient results.\n",
        "    dict: A dictionary containing hospital summaries.\n",
        "\n",
        "    Raises:\n",
        "    ValueError: If the input data is invalid.\n",
        "\n",
        "    >>> load_patient_data('patients.csv')  # Example usage.\n",
        "    \"\"\"\n",
        "    patient_results = []\n",
        "    hospital_summary = {}\n",
        "\n",
        "    with open(input_file, mode='r', newline='') as file:\n",
        "        reader = csv.DictReader(file)\n",
        "\n",
        "        for row in reader:\n",
        "            try:\n",
        "                # Extract patient data\n",
        "                name = row['NAME']\n",
        "                height_m = float(row['HEIGHT_M'])\n",
        "                weight_kg = float(row['WEIGHT_KG'])\n",
        "                fev_pct = float(row['fev_pct'])\n",
        "                dyspnea_description = row['dyspnea_description']\n",
        "                distance_meters = float(row['distance_in_meters'])\n",
        "                hospital = row['hospital']\n",
        "\n",
        "                # Calculate BODE score and risk\n",
        "                bode_score, risk_category = calculate_bode_score(\n",
        "                    fev_pct, dyspnea_description, distance_meters, weight_kg, height_m\n",
        "                )\n",
        "\n",
        "                # Append patient result\n",
        "                patient_results.append({\n",
        "                    'NAME': name,\n",
        "                    'BODE_SCORE': bode_score,\n",
        "                    'BODE_RISK': risk_category,\n",
        "                    'HOSPITAL': hospital\n",
        "                })\n",
        "\n",
        "                # Update hospital summary\n",
        "                if hospital not in hospital_summary:\n",
        "                    hospital_summary[hospital] = {\n",
        "                        'COPD_COUNT': 0,\n",
        "                        'TOTAL_SCORE': 0\n",
        "                    }\n",
        "                hospital_summary[hospital]['COPD_COUNT'] += 1\n",
        "                hospital_summary[hospital]['TOTAL_SCORE'] += bode_score\n",
        "\n",
        "            except (ValueError, KeyError) as e:\n",
        "                raise ValueError(f\"Invalid data for patient {name}: {e}\")\n",
        "\n",
        "    # Calculate average scores for each hospital\n",
        "    for hospital, data in hospital_summary.items():\n",
        "        data['AVG_SCORE'] = data['TOTAL_SCORE'] / data['COPD_COUNT']\n",
        "        data['AVG_RISK'] = determine_bode_risk(data['AVG_SCORE'])\n",
        "\n",
        "    return patient_results, hospital_summary\n"
      ]
    },
    {
      "cell_type": "markdown",
      "metadata": {
        "id": "1In8LrBrfdiL"
      },
      "source": [
        "### Step 5: Main business logic\n",
        "\n",
        "Call BODE Score, BODE Risk functions for each patient.\n",
        "\n",
        "For each hospital, calculate Avg BODE score and Avg BODE risk and count the number of cases for each hospital."
      ]
    },
    {
      "cell_type": "code",
      "source": [],
      "metadata": {
        "id": "6OElOaAegYrf"
      },
      "execution_count": 26,
      "outputs": []
    },
    {
      "cell_type": "code",
      "source": [],
      "metadata": {
        "id": "p88OGzQDh1XR"
      },
      "execution_count": null,
      "outputs": []
    }
  ],
  "metadata": {
    "language_info": {
      "name": "python"
    },
    "colab": {
      "provenance": []
    },
    "kernelspec": {
      "name": "python3",
      "display_name": "Python 3"
    }
  },
  "nbformat": 4,
  "nbformat_minor": 0
}